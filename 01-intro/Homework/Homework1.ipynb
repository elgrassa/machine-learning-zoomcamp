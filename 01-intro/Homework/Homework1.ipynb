{
 "cells": [
  {
   "cell_type": "markdown",
   "id": "bf97f0f5-5b72-457a-8599-3e155793b869",
   "metadata": {},
   "source": [
    "Import pandas and numpy"
   ]
  },
  {
   "cell_type": "code",
   "execution_count": 1,
   "id": "ecebd545-13d2-482d-9cda-c5e482b416eb",
   "metadata": {},
   "outputs": [],
   "source": [
    "import pandas as pd\n",
    "import numpy as np"
   ]
  },
  {
   "cell_type": "markdown",
   "id": "416b2960-383e-490a-b06f-c7035b7e66f6",
   "metadata": {},
   "source": [
    "Question1: Print pandas version in Anaconda local setup"
   ]
  },
  {
   "cell_type": "code",
   "execution_count": 2,
   "id": "0c995a43-03df-4c6e-a377-7875e39e231a",
   "metadata": {},
   "outputs": [
    {
     "data": {
      "text/plain": [
       "'2.2.2'"
      ]
     },
     "execution_count": 2,
     "metadata": {},
     "output_type": "execute_result"
    }
   ],
   "source": [
    "pd.__version__"
   ]
  },
  {
   "cell_type": "markdown",
   "id": "9cfb4c55-918f-47c7-8872-e8945b017a4e",
   "metadata": {},
   "source": [
    "Import dataset from url"
   ]
  },
  {
   "cell_type": "code",
   "execution_count": 3,
   "id": "b61409bd-3e83-4afd-93ed-ced9acfc0c2a",
   "metadata": {},
   "outputs": [],
   "source": [
    "url = 'https://raw.githubusercontent.com/alexeygrigorev/datasets/master/laptops.csv'\n",
    "laptop_data = pd.read_csv(url)"
   ]
  },
  {
   "cell_type": "markdown",
   "id": "0168d8b9-fa0f-4c27-a7a3-4c5da4574965",
   "metadata": {},
   "source": [
    "Question 2: How many records in the dataset?"
   ]
  },
  {
   "cell_type": "code",
   "execution_count": 4,
   "id": "22695f93-e45f-47ce-9502-e115c79e663b",
   "metadata": {},
   "outputs": [
    {
     "name": "stdout",
     "output_type": "stream",
     "text": [
      "<class 'pandas.core.frame.DataFrame'>\n",
      "RangeIndex: 2160 entries, 0 to 2159\n",
      "Data columns (total 12 columns):\n",
      " #   Column        Non-Null Count  Dtype  \n",
      "---  ------        --------------  -----  \n",
      " 0   Laptop        2160 non-null   object \n",
      " 1   Status        2160 non-null   object \n",
      " 2   Brand         2160 non-null   object \n",
      " 3   Model         2160 non-null   object \n",
      " 4   CPU           2160 non-null   object \n",
      " 5   RAM           2160 non-null   int64  \n",
      " 6   Storage       2160 non-null   int64  \n",
      " 7   Storage type  2118 non-null   object \n",
      " 8   GPU           789 non-null    object \n",
      " 9   Screen        2156 non-null   float64\n",
      " 10  Touch         2160 non-null   object \n",
      " 11  Final Price   2160 non-null   float64\n",
      "dtypes: float64(2), int64(2), object(8)\n",
      "memory usage: 202.6+ KB\n"
     ]
    }
   ],
   "source": [
    "laptop_data.info()"
   ]
  },
  {
   "cell_type": "code",
   "execution_count": 5,
   "id": "3a5f9449-32b7-429e-8aeb-f65e8ef096bc",
   "metadata": {
    "scrolled": true
   },
   "outputs": [
    {
     "data": {
      "text/plain": [
       "<bound method NDFrame.head of                                                  Laptop       Status   Brand  \\\n",
       "0     ASUS ExpertBook B1 B1502CBA-EJ0436X Intel Core...          New    Asus   \n",
       "1     Alurin Go Start Intel Celeron N4020/8GB/256GB ...          New  Alurin   \n",
       "2     ASUS ExpertBook B1 B1502CBA-EJ0424X Intel Core...          New    Asus   \n",
       "3     MSI Katana GF66 12UC-082XES Intel Core i7-1270...          New     MSI   \n",
       "4     HP 15S-FQ5085NS Intel Core i5-1235U/16GB/512GB...          New      HP   \n",
       "...                                                 ...          ...     ...   \n",
       "2155  Razer Blade 17 FHD 360Hz Intel Core i7-11800H/...  Refurbished   Razer   \n",
       "2156  Razer Blade 17 FHD 360Hz Intel Core i7-11800H/...  Refurbished   Razer   \n",
       "2157  Razer Blade 17 FHD 360Hz Intel Core i7-11800H/...  Refurbished   Razer   \n",
       "2158  Razer Book 13 Intel Evo Core i7-1165G7/16GB/1T...  Refurbished   Razer   \n",
       "2159  Razer Book FHD+ Intel Evo Core i7-1165G7/16GB/...  Refurbished   Razer   \n",
       "\n",
       "           Model                CPU  RAM  Storage Storage type       GPU  \\\n",
       "0     ExpertBook      Intel Core i5    8      512          SSD       NaN   \n",
       "1             Go      Intel Celeron    8      256          SSD       NaN   \n",
       "2     ExpertBook      Intel Core i3    8      256          SSD       NaN   \n",
       "3         Katana      Intel Core i7   16     1000          SSD  RTX 3050   \n",
       "4            15S      Intel Core i5   16      512          SSD       NaN   \n",
       "...          ...                ...  ...      ...          ...       ...   \n",
       "2155       Blade      Intel Core i7   16     1000          SSD  RTX 3060   \n",
       "2156       Blade      Intel Core i7   16     1000          SSD  RTX 3070   \n",
       "2157       Blade      Intel Core i7   32     1000          SSD  RTX 3080   \n",
       "2158        Book  Intel Evo Core i7   16     1000          SSD       NaN   \n",
       "2159        Book  Intel Evo Core i7   16      256          SSD       NaN   \n",
       "\n",
       "      Screen Touch  Final Price  \n",
       "0       15.6    No      1009.00  \n",
       "1       15.6    No       299.00  \n",
       "2       15.6    No       789.00  \n",
       "3       15.6    No      1199.00  \n",
       "4       15.6    No       669.01  \n",
       "...      ...   ...          ...  \n",
       "2155    17.3    No      2699.99  \n",
       "2156    17.3    No      2899.99  \n",
       "2157    17.3    No      3399.99  \n",
       "2158    13.4   Yes      1899.99  \n",
       "2159    13.4   Yes      1699.99  \n",
       "\n",
       "[2160 rows x 12 columns]>"
      ]
     },
     "execution_count": 5,
     "metadata": {},
     "output_type": "execute_result"
    }
   ],
   "source": [
    "laptop_data.head"
   ]
  },
  {
   "cell_type": "markdown",
   "id": "b92e5653-4e53-4bb7-ab42-60e3f5ce3cd1",
   "metadata": {},
   "source": [
    "Question3: How many laptop brands are presented in the dataset"
   ]
  },
  {
   "cell_type": "code",
   "execution_count": 6,
   "id": "91ccacff-c429-4e72-aacb-bcf0db164984",
   "metadata": {},
   "outputs": [
    {
     "data": {
      "text/plain": [
       "27"
      ]
     },
     "execution_count": 6,
     "metadata": {},
     "output_type": "execute_result"
    }
   ],
   "source": [
    "num_brands = laptop_data['Brand'].nunique()\n",
    "num_brands"
   ]
  },
  {
   "cell_type": "markdown",
   "id": "b71ad19a-3fab-40c0-b355-c8c98a47f93f",
   "metadata": {},
   "source": [
    "Question 4: How many missing values?"
   ]
  },
  {
   "cell_type": "code",
   "execution_count": 12,
   "id": "376fa56c-5017-45ad-b99b-d4215457f5bd",
   "metadata": {},
   "outputs": [
    {
     "name": "stdout",
     "output_type": "stream",
     "text": [
      "3\n"
     ]
    }
   ],
   "source": [
    "# missing_values_count = laptop_data.isnull().sum()\n",
    "# columns_with_missing_values = (missing_values_count > 0).sum()\n",
    "# columns_with_missing_values\n",
    "# Refactored to:\n",
    "\n",
    "print(laptop_data.isnull().sum().gt(0).sum())\n",
    "\n",
    "# laptop_data.isnull().sum()  missing values per column -> .gt(0) checks if each column has missing value ->.sum() counts missing columns"
   ]
  },
  {
   "cell_type": "markdown",
   "id": "a6aa9212-876d-448f-93a1-ebb89c8af1aa",
   "metadata": {},
   "source": [
    "Question 5: What's the maximum final price of Dell notebooks in the dataset?"
   ]
  },
  {
   "cell_type": "code",
   "execution_count": 13,
   "id": "8d502cd3-f57e-4bb1-8456-41138e109013",
   "metadata": {},
   "outputs": [
    {
     "name": "stdout",
     "output_type": "stream",
     "text": [
      "3936.0\n"
     ]
    }
   ],
   "source": [
    "print(laptop_data[laptop_data['Brand'] == 'Dell']['Final Price'].max())"
   ]
  },
  {
   "cell_type": "markdown",
   "id": "1558e0cf-988f-4762-9bd8-e460a3d26bf0",
   "metadata": {},
   "source": [
    "Question 6: Median value of Screen\n",
    "Find the median value of Screen column in the dataset.\n",
    "Next, calculate the most frequent value of the same Screen column.\n",
    "Use fillna method to fill the missing values in Screen column with the most frequent value from the previous step.\n",
    "Now, calculate the median value of Screen once again.\n"
   ]
  },
  {
   "cell_type": "code",
   "execution_count": 15,
   "id": "93c0f57b-e8e9-4903-84b3-f8da4802f349",
   "metadata": {},
   "outputs": [
    {
     "data": {
      "text/plain": [
       "(15.6, 15.6, 15.6)"
      ]
     },
     "execution_count": 15,
     "metadata": {},
     "output_type": "execute_result"
    }
   ],
   "source": [
    "# Find the median value of Screen column in the dataset\n",
    "median_screen_before = laptop_data['Screen'].median()\n",
    "\n",
    "# Calculate the most frequent value of the same Screen column\n",
    "most_frequent_screen_value = laptop_data['Screen'].mode()[0]\n",
    "\n",
    "# Use fillna method to fill the missing values in Screen column with the most frequent value from the previous ste\n",
    "laptop_data['Screen'] = laptop_data['Screen'].fillna(most_frequent_screen_value)\n",
    "\n",
    "# Calculate the median of the 'Screen' column again\n",
    "median_screen_after = laptop_data['Screen'].median()\n",
    "\n",
    "median_screen_before, most_frequent_screen_value, median_screen_after\n"
   ]
  },
  {
   "cell_type": "markdown",
   "id": "6fc1461a-705e-4fec-b751-a39280d67d38",
   "metadata": {},
   "source": [
    "Answer: So we can see it doesn't changed "
   ]
  },
  {
   "cell_type": "markdown",
   "id": "1f0d128f-a4aa-431f-8823-01bc9bd50143",
   "metadata": {},
   "source": [
    "Question 7: Sum of weights\n",
    "Select all the \"Innjoo\" laptops from the dataset.\n",
    "Select only columns RAM, Storage, Screen.\n",
    "Get the underlying NumPy array. Let's call it X.\n",
    "Compute matrix-matrix multiplication between the transpose of X and X. To get the transpose, use X.T. Let's call the result XTX.\n",
    "Compute the inverse of XTX.\n",
    "Create an array y with values [1100, 1300, 800, 900, 1000, 1100].\n",
    "Multiply the inverse of XTX with the transpose of X, and then multiply the result by y. Call the result w.\n",
    "What's the sum of all the elements of the result?\n"
   ]
  },
  {
   "cell_type": "code",
   "execution_count": 17,
   "id": "67244589-c435-49b0-b10f-339ec78d82a2",
   "metadata": {},
   "outputs": [
    {
     "name": "stdout",
     "output_type": "stream",
     "text": [
      "<class 'pandas.core.frame.DataFrame'>\n",
      "Index: 6 entries, 1478 to 1483\n",
      "Data columns (total 3 columns):\n",
      " #   Column   Non-Null Count  Dtype  \n",
      "---  ------   --------------  -----  \n",
      " 0   RAM      6 non-null      int64  \n",
      " 1   Storage  6 non-null      int64  \n",
      " 2   Screen   6 non-null      float64\n",
      "dtypes: float64(1), int64(2)\n",
      "memory usage: 192.0 bytes\n"
     ]
    },
    {
     "data": {
      "text/plain": [
       "91.2998806299557"
      ]
     },
     "execution_count": 17,
     "metadata": {},
     "output_type": "execute_result"
    }
   ],
   "source": [
    "# Step 1: Select all \"Innjoo\" laptops and only the specified columns\n",
    "innjoo_laptops = laptop_data[laptop_data['Brand'] == 'Innjoo']\n",
    "\n",
    "# Step 2: Select only columns RAM, Storage, Screen\n",
    "innjoo_laptops_specific_columns = innjoo_laptops[['RAM', 'Storage', 'Screen']]\n",
    "innjoo_laptops_specific_columns.info()\n",
    "\n",
    "# Step 3: Get the underlying NumPy array. Let's call it X\n",
    "X = innjoo_laptops_specific_columns.to_numpy()\n",
    "\n",
    "# Step 4: Compute matrix-matrix multiplication between the transpose of X and X.\n",
    "# To get the transpose, use X.T. Let's call the result XTX\n",
    "XTX = X.T @ X\n",
    "\n",
    "# Step 5: Compute the inverse of XTX\n",
    "XTX_inv = np.linalg.inv(XTX)\n",
    "\n",
    "# Step 6: Create array y with values [1100, 1300, 800, 900, 1000, 1100]\n",
    "y = np.array([1100, 1300, 800, 900, 1000, 1100])\n",
    "\n",
    "# Step 7: Multiply the inverse of XTX with the transpose of X, and then multiply the result by y. Call the result w\n",
    "w = XTX_inv @ X.T @ y\n",
    "\n",
    "# Step 8: Calculate the sum of all elements in w\n",
    "sum_of_w = np.sum(w)\n",
    "sum_of_w"
   ]
  },
  {
   "cell_type": "markdown",
   "id": "939b29e4-a0ba-4062-9a57-3a4928c5068d",
   "metadata": {},
   "source": [
    "Answer 91.30"
   ]
  }
 ],
 "metadata": {
  "kernelspec": {
   "display_name": "Python 3 (ipykernel)",
   "language": "python",
   "name": "python3"
  },
  "language_info": {
   "codemirror_mode": {
    "name": "ipython",
    "version": 3
   },
   "file_extension": ".py",
   "mimetype": "text/x-python",
   "name": "python",
   "nbconvert_exporter": "python",
   "pygments_lexer": "ipython3",
   "version": "3.11.9"
  }
 },
 "nbformat": 4,
 "nbformat_minor": 5
}
