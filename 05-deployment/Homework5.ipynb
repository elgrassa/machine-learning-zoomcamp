{
 "cells": [
  {
   "cell_type": "code",
   "execution_count": 1,
   "id": "78af6c30-d8e5-4c14-b5ce-4bf4473e5f9e",
   "metadata": {},
   "outputs": [
    {
     "name": "stdout",
     "output_type": "stream",
     "text": [
      "Requirement already satisfied: pipenv in /opt/anaconda3/lib/python3.12/site-packages (2024.3.0)\n",
      "Requirement already satisfied: certifi in /opt/anaconda3/lib/python3.12/site-packages (from pipenv) (2024.8.30)\n",
      "Requirement already satisfied: packaging>=22 in /opt/anaconda3/lib/python3.12/site-packages (from pipenv) (23.2)\n",
      "Requirement already satisfied: setuptools>=67 in /opt/anaconda3/lib/python3.12/site-packages (from pipenv) (69.5.1)\n",
      "Requirement already satisfied: virtualenv>=20.24.2 in /opt/anaconda3/lib/python3.12/site-packages (from pipenv) (20.27.1)\n",
      "Requirement already satisfied: distlib<1,>=0.3.7 in /opt/anaconda3/lib/python3.12/site-packages (from virtualenv>=20.24.2->pipenv) (0.3.9)\n",
      "Requirement already satisfied: filelock<4,>=3.12.2 in /opt/anaconda3/lib/python3.12/site-packages (from virtualenv>=20.24.2->pipenv) (3.13.1)\n",
      "Requirement already satisfied: platformdirs<5,>=3.9.1 in /opt/anaconda3/lib/python3.12/site-packages (from virtualenv>=20.24.2->pipenv) (3.10.0)\n"
     ]
    }
   ],
   "source": [
    "!pip install pipenv"
   ]
  },
  {
   "cell_type": "code",
   "execution_count": 2,
   "id": "4fac3a36-0b54-4e90-881a-0da6ec17bfa3",
   "metadata": {},
   "outputs": [
    {
     "name": "stdout",
     "output_type": "stream",
     "text": [
      "\u001b[1mpipenv\u001b[0m, version 2024.3.0\n"
     ]
    }
   ],
   "source": [
    "!pipenv --version"
   ]
  },
  {
   "cell_type": "code",
   "execution_count": 3,
   "id": "938ff1e4-cb02-477e-a450-c029b099b5b0",
   "metadata": {},
   "outputs": [
    {
     "name": "stdout",
     "output_type": "stream",
     "text": [
      "Locking\u001b[0m \u001b[33m[packages]\u001b[0m dependencies...\u001b[0m\n",
      "\u001b[?25lBuilding requirements...\n",
      "\u001b[2KResolving dependencies....\n",
      "\u001b[2K✔ Success! Locking packages...\n",
      "\u001b[2K\u001b[32m⠸\u001b[0m Locking packages...\n",
      "\u001b[1A\u001b[2KLocking\u001b[0m \u001b[33m[dev-packages]\u001b[0m dependencies...\u001b[0m\n",
      "\u001b[1mUpdated Pipfile.lock (adb15e5c5a21f13e221698df1bb36dc8d3bee16bb778fdfcad74b126616757b9)!\u001b[0m\n",
      "\u001b[1;33mThe flag --skip-lock has been reintroduced \u001b[0m\u001b[1;33m(\u001b[0m\u001b[1;33mbut is not recommended\u001b[0m\u001b[1;33m)\u001b[0m\u001b[1;33m.  Without \u001b[0m\n",
      "\u001b[1;33mthe lock resolver it is difficult to manage multiple package indexes, and hash \u001b[0m\n",
      "\u001b[1;33mchecking is not provided.  However it can help manage installs with current \u001b[0m\n",
      "\u001b[1;33mdeficiencies in locking across platforms.\u001b[0m\n",
      "To activate this project's virtualenv, run \u001b[33mpipenv shell\u001b[0m.\n",
      "Alternatively, run a command inside the virtualenv with \u001b[33mpipenv run\u001b[0m.\n",
      "\u001b[1;32mInstalling scikit-learn==1.5.2...\u001b[0m\n",
      "✔ Installation Succeeded\n",
      "\u001b[1mInstalling dependencies from Pipfile...\u001b[0m\n"
     ]
    }
   ],
   "source": [
    "!pipenv lock --clear\n",
    "!pipenv install --skip-lock scikit-learn==1.5.2"
   ]
  },
  {
   "cell_type": "code",
   "execution_count": 4,
   "id": "81b06372-09a4-4e71-a574-4b163c102f3c",
   "metadata": {},
   "outputs": [
    {
     "name": "stdout",
     "output_type": "stream",
     "text": [
      "1.5.2\n"
     ]
    }
   ],
   "source": [
    "!pipenv run python -c \"import sklearn; print(sklearn.__version__)\""
   ]
  },
  {
   "cell_type": "code",
   "execution_count": 5,
   "id": "f5924c3f-a870-409b-a183-a3f40bdf8558",
   "metadata": {},
   "outputs": [
    {
     "name": "stdout",
     "output_type": "stream",
     "text": [
      "\u001b[34m==>\u001b[0m \u001b[1mDownloading https://formulae.brew.sh/api/formula.jws.json\u001b[0m\n",
      "######################################################################### 100.0%\n",
      "\u001b[34m==>\u001b[0m \u001b[1mDownloading https://formulae.brew.sh/api/cask.jws.json\u001b[0m\n",
      "######################################################################### 100.0%\n",
      "\u001b[33mWarning:\u001b[0m wget 1.24.5 is already installed and up-to-date.\n",
      "To reinstall 1.24.5, run:\n",
      "  brew reinstall wget\n"
     ]
    }
   ],
   "source": [
    "!brew install wget"
   ]
  },
  {
   "cell_type": "code",
   "execution_count": 6,
   "id": "2da565d6-1145-4050-97de-6f5d9eab4169",
   "metadata": {},
   "outputs": [
    {
     "name": "stdout",
     "output_type": "stream",
     "text": [
      "--2024-10-30 22:12:20--  https://raw.githubusercontent.com/DataTalksClub/machine-learning-zoomcamp/master/cohorts/2024/05-deployment/homework/model1.bin\n",
      "Resolving raw.githubusercontent.com (raw.githubusercontent.com)... 185.199.110.133, 185.199.111.133, 185.199.108.133, ...\n",
      "Connecting to raw.githubusercontent.com (raw.githubusercontent.com)|185.199.110.133|:443... connected.\n",
      "HTTP request sent, awaiting response... 200 OK\n",
      "Length: 850 [application/octet-stream]\n",
      "Saving to: ‘model1.bin.3’\n",
      "\n",
      "model1.bin.3        100%[===================>]     850  --.-KB/s    in 0s      \n",
      "\n",
      "2024-10-30 22:12:20 (17,2 MB/s) - ‘model1.bin.3’ saved [850/850]\n",
      "\n",
      "--2024-10-30 22:12:20--  https://raw.githubusercontent.com/DataTalksClub/machine-learning-zoomcamp/master/cohorts/2024/05-deployment/homework/dv.bin\n",
      "Resolving raw.githubusercontent.com (raw.githubusercontent.com)... 185.199.111.133, 185.199.108.133, 185.199.109.133, ...\n",
      "Connecting to raw.githubusercontent.com (raw.githubusercontent.com)|185.199.111.133|:443... connected.\n",
      "HTTP request sent, awaiting response... 200 OK\n",
      "Length: 560 [application/octet-stream]\n",
      "Saving to: ‘dv.bin.3’\n",
      "\n",
      "dv.bin.3            100%[===================>]     560  --.-KB/s    in 0s      \n",
      "\n",
      "2024-10-30 22:12:21 (6,85 MB/s) - ‘dv.bin.3’ saved [560/560]\n",
      "\n"
     ]
    }
   ],
   "source": [
    "PREFIX=\"https://raw.githubusercontent.com/DataTalksClub/machine-learning-zoomcamp/master/cohorts/2024/05-deployment/homework\"\n",
    "!wget {PREFIX}/model1.bin\n",
    "!wget {PREFIX}/dv.bin"
   ]
  },
  {
   "cell_type": "code",
   "execution_count": 7,
   "id": "a79a401a-2537-4117-a177-122285f3e708",
   "metadata": {},
   "outputs": [
    {
     "name": "stdout",
     "output_type": "stream",
     "text": [
      "        \"scikit-learn\": {\n",
      "            \"hashes\": [\n",
      "                \"sha256:03b6158efa3faaf1feea3faa884c840ebd61b6484167c711548fce208ea09445\",\n"
     ]
    }
   ],
   "source": [
    "!cat Pipfile.lock | grep -A 2 \"scikit-learn\""
   ]
  },
  {
   "cell_type": "code",
   "execution_count": 8,
   "id": "6703e502-906a-4e66-af49-16e8cf8e8aec",
   "metadata": {},
   "outputs": [
    {
     "name": "stdout",
     "output_type": "stream",
     "text": [
      "Requirement already satisfied: scikit-learn==1.5.2 in /opt/anaconda3/lib/python3.12/site-packages (1.5.2)\n",
      "Requirement already satisfied: numpy>=1.19.5 in /opt/anaconda3/lib/python3.12/site-packages (from scikit-learn==1.5.2) (1.26.4)\n",
      "Requirement already satisfied: scipy>=1.6.0 in /opt/anaconda3/lib/python3.12/site-packages (from scikit-learn==1.5.2) (1.13.1)\n",
      "Requirement already satisfied: joblib>=1.2.0 in /opt/anaconda3/lib/python3.12/site-packages (from scikit-learn==1.5.2) (1.4.2)\n",
      "Requirement already satisfied: threadpoolctl>=3.1.0 in /opt/anaconda3/lib/python3.12/site-packages (from scikit-learn==1.5.2) (3.5.0)\n"
     ]
    }
   ],
   "source": [
    "import pickle\n",
    "!pip install scikit-learn==1.5.2 #not sure why 1.5.2 from above not used, will check later\n",
    "with open(\"dv.bin\", \"rb\") as dv_file:\n",
    "    dv = pickle.load(dv_file)\n",
    "\n",
    "with open(\"model1.bin\", \"rb\") as model_file:\n",
    "    model = pickle.load(model_file)"
   ]
  },
  {
   "cell_type": "code",
   "execution_count": 9,
   "id": "168c189e-b1d7-4bc4-b213-69ee776d0553",
   "metadata": {},
   "outputs": [
    {
     "name": "stdout",
     "output_type": "stream",
     "text": [
      "Probability of subscription: 0.7590966516879658\n"
     ]
    }
   ],
   "source": [
    "# Client data\n",
    "client = {\"job\": \"management\", \"duration\": 400, \"poutcome\": \"success\"}\n",
    "\n",
    "# Transform the client data\n",
    "X_client = dv.transform([client])\n",
    "\n",
    "# Predict the probability of subscription\n",
    "subscription_prob = model.predict_proba(X_client)[0, 1]  # Probability for the positive class\n",
    "print(\"Probability of subscription:\", subscription_prob)"
   ]
  },
  {
   "cell_type": "code",
   "execution_count": 24,
   "id": "ceb2e827-fba3-4d24-a47d-3404c8aca3de",
   "metadata": {},
   "outputs": [],
   "source": [
    "with open(\"app.py\", \"w\") as f:\n",
    "    f.write(\"\"\"\n",
    "from flask import Flask, request, jsonify\n",
    "import pickle\n",
    "\n",
    "# Load the model and vectorizer\n",
    "with open(\"dv.bin\", \"rb\") as f_dv:\n",
    "    dv = pickle.load(f_dv)\n",
    "\n",
    "with open(\"model1.bin\", \"rb\") as f_model:\n",
    "    model = pickle.load(f_model)\n",
    "\n",
    "# Initialize Flask app\n",
    "app = Flask(__name__)\n",
    "\n",
    "@app.route('/predict', methods=['POST'])\n",
    "def predict():\n",
    "    client = request.get_json()\n",
    "    X_client = dv.transform([client])\n",
    "    subscription_prob = model.predict_proba(X_client)[0, 1]\n",
    "    return jsonify({\"subscription_probability\": subscription_prob})\n",
    "\n",
    "if __name__ == \"__main__\":\n",
    "    app.run(debug=True, host=\"0.0.0.0\", port=9696)\n",
    "\"\"\")\n"
   ]
  },
  {
   "cell_type": "code",
   "execution_count": 22,
   "id": "1a0c3756-3d48-4e52-9987-a192afb598ca",
   "metadata": {},
   "outputs": [
    {
     "data": {
      "text/plain": [
       "'/Users/pavloskorodziievskyi'"
      ]
     },
     "execution_count": 22,
     "metadata": {},
     "output_type": "execute_result"
    }
   ],
   "source": [
    "pwd"
   ]
  },
  {
   "cell_type": "code",
   "execution_count": 26,
   "id": "4efbb1f8-686c-4126-9fbe-982d67d9cea2",
   "metadata": {},
   "outputs": [
    {
     "ename": "SyntaxError",
     "evalue": "invalid syntax (708474007.py, line 1)",
     "output_type": "error",
     "traceback": [
      "\u001b[0;36m  Cell \u001b[0;32mIn[26], line 1\u001b[0;36m\u001b[0m\n\u001b[0;31m    gunicorn --bind 0.0.0.0:9696 app:app\u001b[0m\n\u001b[0m                    ^\u001b[0m\n\u001b[0;31mSyntaxError\u001b[0m\u001b[0;31m:\u001b[0m invalid syntax\n"
     ]
    }
   ],
   "source": [
    "#gunicorn --bind 0.0.0.0:9696 app:app  - launched in separate (non jupyter terminal)"
   ]
  },
  {
   "cell_type": "code",
   "execution_count": 28,
   "id": "f4f543a3-506e-4699-b1e6-5dc604c9fa0a",
   "metadata": {},
   "outputs": [
    {
     "name": "stdout",
     "output_type": "stream",
     "text": [
      "Subscription Probability: 0.33480703475511053\n"
     ]
    }
   ],
   "source": [
    "import requests\n",
    "\n",
    "url = \"http://127.0.0.1:9696/predict\"\n",
    "client = {\"job\": \"student\", \"duration\": 280, \"poutcome\": \"failure\"}\n",
    "\n",
    "response = requests.post(url, json=client).json()\n",
    "print(\"Subscription Probability:\", response[\"subscription_probability\"])"
   ]
  },
  {
   "cell_type": "code",
   "execution_count": 30,
   "id": "5e97b9c5-db6e-4282-aed8-0be629d847ae",
   "metadata": {},
   "outputs": [
    {
     "name": "stdout",
     "output_type": "stream",
     "text": [
      "3.11.5-slim: Pulling from svizor/zoomcamp-model\n",
      "\n",
      "\u001b[1Be7c4b030: Pulling fs layer \n",
      "\u001b[1B36e84c8e: Pulling fs layer \n",
      "\u001b[1Bb60fbb0c: Pulling fs layer \n",
      "\u001b[1Be97f4fbd: Pulling fs layer \n",
      "\u001b[1Bd4e17ae3: Pulling fs layer \n",
      "\u001b[1Bf8d7a667: Pulling fs layer \n",
      "\u001b[1BDigest: sha256:15d61790363f892dfdef55f47b78feed751cb59704d47ea911df0ef3e9300c06[5A\u001b[2K\u001b[6A\u001b[2K\u001b[5A\u001b[2K\u001b[6A\u001b[2K\u001b[7A\u001b[2K\u001b[5A\u001b[2K\u001b[6A\u001b[2K\u001b[5A\u001b[2K\u001b[7A\u001b[2K\u001b[5A\u001b[2K\u001b[7A\u001b[2K\u001b[5A\u001b[2K\u001b[7A\u001b[2K\u001b[5A\u001b[2K\u001b[7A\u001b[2K\u001b[4A\u001b[2K\u001b[7A\u001b[2K\u001b[7A\u001b[2K\u001b[7A\u001b[2K\u001b[7A\u001b[2K\u001b[5A\u001b[2K\u001b[5A\u001b[2K\u001b[5A\u001b[2K\u001b[7A\u001b[2K\u001b[3A\u001b[2K\u001b[7A\u001b[2K\u001b[3A\u001b[2K\u001b[5A\u001b[2K\u001b[3A\u001b[2K\u001b[7A\u001b[2K\u001b[3A\u001b[2K\u001b[7A\u001b[2K\u001b[3A\u001b[2K\u001b[5A\u001b[2K\u001b[7A\u001b[2K\u001b[5A\u001b[2K\u001b[7A\u001b[2K\u001b[3A\u001b[2K\u001b[3A\u001b[2K\u001b[7A\u001b[2K\u001b[5A\u001b[2K\u001b[7A\u001b[2K\u001b[5A\u001b[2K\u001b[7A\u001b[2K\u001b[5A\u001b[2K\u001b[7A\u001b[2K\u001b[7A\u001b[2K\u001b[2A\u001b[2K\u001b[7A\u001b[2K\u001b[7A\u001b[2K\u001b[7A\u001b[2K\u001b[1A\u001b[2K\u001b[7A\u001b[2K\u001b[7A\u001b[2K\u001b[7A\u001b[2K\u001b[7A\u001b[2K\u001b[7A\u001b[2K\u001b[7A\u001b[2K\u001b[7A\u001b[2K\u001b[7A\u001b[2K\u001b[7A\u001b[2K\u001b[7A\u001b[2K\u001b[7A\u001b[2K\u001b[7A\u001b[2K\u001b[7A\u001b[2K\u001b[7A\u001b[2K\u001b[7A\u001b[2K\u001b[7A\u001b[2K\u001b[7A\u001b[2K\u001b[7A\u001b[2K\u001b[7A\u001b[2K\u001b[7A\u001b[2K\u001b[6A\u001b[2K\u001b[5A\u001b[2K\u001b[5A\u001b[2K\u001b[5A\u001b[2K\u001b[5A\u001b[2K\u001b[4A\u001b[2K\u001b[3A\u001b[2K\u001b[3A\u001b[2K\n",
      "Status: Downloaded newer image for svizor/zoomcamp-model:3.11.5-slim\n",
      "docker.io/svizor/zoomcamp-model:3.11.5-slim\n",
      "\u001b[1m\n",
      "What's next:\u001b[0m\n",
      "    View a summary of image vulnerabilities and recommendations → \u001b[36mdocker scout quickview svizor/zoomcamp-model:3.11.5-slim\u001b[0m\n",
      "REPOSITORY              TAG           IMAGE ID       CREATED       SIZE\n",
      "svizor/zoomcamp-model   3.11.5-slim   975e7bdca086   11 days ago   130MB\n"
     ]
    }
   ],
   "source": [
    "!docker pull svizor/zoomcamp-model:3.11.5-slim\n",
    "!docker images svizor/zoomcamp-model:3.11.5-slim\n"
   ]
  },
  {
   "cell_type": "code",
   "execution_count": 77,
   "id": "f3dedf99-e84f-4f5f-9424-5ae3aada070a",
   "metadata": {},
   "outputs": [],
   "source": [
    "with open(\"Dockerfile\", \"w\") as f:\n",
    "    f.write(\"\"\"\n",
    "    FROM svizor/zoomcamp-model:3.11.5-slim\n",
    "\n",
    "    # Install required packages\n",
    "    RUN pip install gunicorn flask\n",
    "\n",
    "    # Set working directory\n",
    "    WORKDIR /app\n",
    "\n",
    "    # Copy Pipenv files and install dependencies\n",
    "    COPY Pipfile Pipfile.lock /app/\n",
    "    RUN pip install pipenv && pipenv install --system --deploy\n",
    "\n",
    "    # Copy the application and model files\n",
    "    COPY app.py model1.bin dv.bin /app/\n",
    "\n",
    "    # Expose the port for the app\n",
    "    EXPOSE 9696\n",
    "\n",
    "    # Start the app with Gunicorn\n",
    "    CMD [\"gunicorn\", \"--bind\", \"0.0.0.0:9696\", \"app:app\"]\n",
    "    \"\"\")\n"
   ]
  },
  {
   "cell_type": "code",
   "execution_count": 79,
   "id": "c0835d30-b601-4b1c-be4a-e80862cdc465",
   "metadata": {},
   "outputs": [
    {
     "name": "stdout",
     "output_type": "stream",
     "text": [
      "\u001b[1A\u001b[1B\u001b[0G\u001b[?25l[+] Building 0.0s (0/0)  docker:desktop-linux\n",
      "\u001b[?25h\u001b[1A\u001b[0G\u001b[?25l[+] Building 0.0s (0/1)                                    docker:desktop-linux\n",
      "\u001b[?25h\u001b[1A\u001b[0G\u001b[?25l[+] Building 0.2s (1/2)                                    docker:desktop-linux\n",
      "\u001b[34m => [internal] load build definition from Dockerfile                       0.1s\n",
      "\u001b[0m\u001b[34m => => transferring dockerfile: 578B                                       0.0s\n",
      "\u001b[0m => [internal] load metadata for docker.io/svizor/zoomcamp-model:3.11.5-s  0.2s\n",
      "\u001b[?25h\u001b[1A\u001b[1A\u001b[1A\u001b[1A\u001b[0G\u001b[?25l[+] Building 0.4s (1/2)                                    docker:desktop-linux\n",
      "\u001b[34m => [internal] load build definition from Dockerfile                       0.1s\n",
      "\u001b[0m\u001b[34m => => transferring dockerfile: 578B                                       0.0s\n",
      "\u001b[0m => [internal] load metadata for docker.io/svizor/zoomcamp-model:3.11.5-s  0.3s\n",
      "\u001b[?25h\u001b[1A\u001b[1A\u001b[1A\u001b[1A\u001b[0G\u001b[?25l[+] Building 0.5s (1/2)                                    docker:desktop-linux\n",
      "\u001b[34m => [internal] load build definition from Dockerfile                       0.1s\n",
      "\u001b[0m\u001b[34m => => transferring dockerfile: 578B                                       0.0s\n",
      "\u001b[0m => [internal] load metadata for docker.io/svizor/zoomcamp-model:3.11.5-s  0.5s\n",
      "\u001b[?25h\u001b[1A\u001b[1A\u001b[1A\u001b[1A\u001b[0G\u001b[?25l[+] Building 0.7s (1/2)                                    docker:desktop-linux\n",
      "\u001b[34m => [internal] load build definition from Dockerfile                       0.1s\n",
      "\u001b[0m\u001b[34m => => transferring dockerfile: 578B                                       0.0s\n",
      "\u001b[0m => [internal] load metadata for docker.io/svizor/zoomcamp-model:3.11.5-s  0.6s\n",
      "\u001b[?25h\u001b[1A\u001b[1A\u001b[1A\u001b[1A\u001b[0G\u001b[?25l[+] Building 0.8s (1/2)                                    docker:desktop-linux\n",
      "\u001b[34m => [internal] load build definition from Dockerfile                       0.1s\n",
      "\u001b[0m\u001b[34m => => transferring dockerfile: 578B                                       0.0s\n",
      "\u001b[0m => [internal] load metadata for docker.io/svizor/zoomcamp-model:3.11.5-s  0.8s\n",
      "\u001b[?25h\u001b[1A\u001b[1A\u001b[1A\u001b[1A\u001b[0G\u001b[?25l[+] Building 1.0s (1/2)                                    docker:desktop-linux\n",
      "\u001b[34m => [internal] load build definition from Dockerfile                       0.1s\n",
      "\u001b[0m\u001b[34m => => transferring dockerfile: 578B                                       0.0s\n",
      "\u001b[0m => [internal] load metadata for docker.io/svizor/zoomcamp-model:3.11.5-s  0.9s\n",
      "\u001b[?25h\u001b[1A\u001b[1A\u001b[1A\u001b[1A\u001b[0G\u001b[?25l[+] Building 1.1s (1/2)                                    docker:desktop-linux\n",
      "\u001b[34m => [internal] load build definition from Dockerfile                       0.1s\n",
      "\u001b[0m\u001b[34m => => transferring dockerfile: 578B                                       0.0s\n",
      "\u001b[0m => [internal] load metadata for docker.io/svizor/zoomcamp-model:3.11.5-s  1.1s\n",
      "\u001b[?25h\u001b[1A\u001b[1A\u001b[1A\u001b[1A\u001b[0G\u001b[?25l[+] Building 1.3s (1/2)                                    docker:desktop-linux\n",
      "\u001b[34m => [internal] load build definition from Dockerfile                       0.1s\n",
      "\u001b[0m\u001b[34m => => transferring dockerfile: 578B                                       0.0s\n",
      "\u001b[0m => [internal] load metadata for docker.io/svizor/zoomcamp-model:3.11.5-s  1.2s\n",
      "\u001b[?25h\u001b[1A\u001b[1A\u001b[1A\u001b[1A\u001b[0G\u001b[?25l[+] Building 1.4s (1/2)                                    docker:desktop-linux\n",
      "\u001b[34m => [internal] load build definition from Dockerfile                       0.1s\n",
      "\u001b[0m\u001b[34m => => transferring dockerfile: 578B                                       0.0s\n",
      "\u001b[0m => [internal] load metadata for docker.io/svizor/zoomcamp-model:3.11.5-s  1.4s\n",
      "\u001b[?25h\u001b[1A\u001b[1A\u001b[1A\u001b[1A\u001b[0G\u001b[?25l[+] Building 1.6s (1/2)                                    docker:desktop-linux\n",
      "\u001b[34m => [internal] load build definition from Dockerfile                       0.1s\n",
      "\u001b[0m\u001b[34m => => transferring dockerfile: 578B                                       0.0s\n",
      "\u001b[0m => [internal] load metadata for docker.io/svizor/zoomcamp-model:3.11.5-s  1.5s\n",
      "\u001b[?25h\u001b[1A\u001b[1A\u001b[1A\u001b[1A\u001b[0G\u001b[?25l[+] Building 1.6s (2/2)                                    docker:desktop-linux\n",
      "\u001b[34m => [internal] load build definition from Dockerfile                       0.1s\n",
      "\u001b[0m\u001b[34m => => transferring dockerfile: 578B                                       0.0s\n",
      "\u001b[0m\u001b[34m => [internal] load metadata for docker.io/svizor/zoomcamp-model:3.11.5-s  1.5s\n",
      "\u001b[0m\u001b[?25h\u001b[1A\u001b[1A\u001b[1A\u001b[1A\u001b[0G\u001b[?25l[+] Building 1.7s (11/11) FINISHED                         docker:desktop-linux\n",
      "\u001b[34m => [internal] load build definition from Dockerfile                       0.1s\n",
      "\u001b[0m\u001b[34m => => transferring dockerfile: 578B                                       0.0s\n",
      "\u001b[0m\u001b[34m => [internal] load metadata for docker.io/svizor/zoomcamp-model:3.11.5-s  1.5s\n",
      "\u001b[0m\u001b[34m => [internal] load .dockerignore                                          0.0s\n",
      "\u001b[0m\u001b[34m => => transferring context: 2B                                            0.0s\n",
      "\u001b[0m\u001b[34m => [1/6] FROM docker.io/svizor/zoomcamp-model:3.11.5-slim@sha256:15d6179  0.0s\n",
      "\u001b[0m\u001b[34m => [internal] load build context                                          0.0s\n",
      "\u001b[0m\u001b[34m => => transferring context: 217B                                          0.0s\n",
      "\u001b[0m\u001b[34m => CACHED [2/6] RUN pip install gunicorn flask                            0.0s\n",
      "\u001b[0m\u001b[34m => CACHED [3/6] WORKDIR /app                                              0.0s\n",
      "\u001b[0m\u001b[34m => CACHED [4/6] COPY Pipfile Pipfile.lock /app/                           0.0s\n",
      "\u001b[0m\u001b[34m => CACHED [5/6] RUN pip install pipenv && pipenv install --system --depl  0.0s\n",
      "\u001b[0m\u001b[34m => CACHED [6/6] COPY app.py model1.bin dv.bin /app/                       0.0s\n",
      "\u001b[0m\u001b[34m => exporting to image                                                     0.0s\n",
      "\u001b[0m\u001b[34m => => exporting layers                                                    0.0s\n",
      "\u001b[0m\u001b[34m => => writing image sha256:5cc76724437ece2385d7d2dfcb2397d2f4d85b49b5629  0.0s\n",
      "\u001b[0m\u001b[34m => => naming to docker.io/library/ps_image                                0.0s\n",
      "\u001b[0m\u001b[?25h\n",
      "View build details: \u001b]8;;docker-desktop://dashboard/build/desktop-linux/desktop-linux/ykt67idl7m330xkfxzkape76t\u001b\\docker-desktop://dashboard/build/desktop-linux/desktop-linux/ykt67idl7m330xkfxzkape76t\u001b]8;;\u001b\\\n",
      "\n",
      " \u001b[33m1 warning found (use docker --debug to expand):\n",
      "\u001b[0m - InvalidBaseImagePlatform: Base image svizor/zoomcamp-model:3.11.5-slim was pulled with platform \"linux/amd64\", expected \"linux/arm64\" for current build (line 2)\n",
      "\u001b[1m\n",
      "What's next:\u001b[0m\n",
      "    View a summary of image vulnerabilities and recommendations → \u001b[36mdocker scout quickview \u001b[0m\n"
     ]
    }
   ],
   "source": [
    "!docker build -t ps_image ."
   ]
  },
  {
   "cell_type": "code",
   "execution_count": 81,
   "id": "70e135ea-05c0-41a8-b6d2-7f33a835cc27",
   "metadata": {},
   "outputs": [
    {
     "name": "stdout",
     "output_type": "stream",
     "text": [
      "REPOSITORY   TAG       IMAGE ID       CREATED         SIZE\n",
      "ps_image     latest    5cc76724437e   5 minutes ago   546MB\n"
     ]
    }
   ],
   "source": [
    "!docker images ps_image"
   ]
  },
  {
   "cell_type": "code",
   "execution_count": null,
   "id": "0ecc9b2d-a533-4a2b-9890-861974b3017c",
   "metadata": {},
   "outputs": [
    {
     "name": "stdout",
     "output_type": "stream",
     "text": [
      "WARNING: The requested image's platform (linux/amd64) does not match the detected host platform (linux/arm64/v8) and no specific platform was requested\n",
      "[2024-10-30 21:46:10 +0000] [1] [INFO] Starting gunicorn 23.0.0\n",
      "[2024-10-30 21:46:10 +0000] [1] [INFO] Listening at: http://0.0.0.0:9696 (1)\n",
      "[2024-10-30 21:46:10 +0000] [1] [INFO] Using worker: sync\n",
      "[2024-10-30 21:46:10 +0000] [7] [INFO] Booting worker with pid: 7\n"
     ]
    }
   ],
   "source": [
    "!docker run -p 9696:9696 ps_image"
   ]
  },
  {
   "cell_type": "code",
   "execution_count": null,
   "id": "0d284545-b1d0-4beb-93d1-69c9d1f0ebd0",
   "metadata": {},
   "outputs": [],
   "source": [
    "!docker build --platform linux/arm64 -t ps_image ."
   ]
  },
  {
   "cell_type": "code",
   "execution_count": null,
   "id": "a2082481-3cd5-4c5d-b925-0be93bb81c37",
   "metadata": {},
   "outputs": [],
   "source": [
    "!docker run --platform linux/amd64 -p 9696:9696 ps_image"
   ]
  },
  {
   "cell_type": "code",
   "execution_count": null,
   "id": "0d358f73-10df-4760-ad9c-bb9443cf98f7",
   "metadata": {},
   "outputs": [],
   "source": [
    "!docker ps -a"
   ]
  },
  {
   "cell_type": "code",
   "execution_count": null,
   "id": "8549712e-0b84-4b04-9914-451a19eae8be",
   "metadata": {},
   "outputs": [],
   "source": [
    "import requests\n",
    "\n",
    "# Define the URL of the running Docker container\n",
    "url = \"http://127.0.0.1:9696/predict\"\n",
    "\n",
    "client = {\n",
    "    \"job\": \"management\",\n",
    "    \"duration\": 400,\n",
    "    \"poutcome\": \"success\"\n",
    "}\n",
    "\n",
    "response = requests.post(url, json=client)\n",
    "\n",
    "if response.status_code == 200:\n",
    "    result = response.json()\n",
    "    print(\"Subscription Probability:\", result[\"subscription_probability\"])\n",
    "else:\n",
    "    print(\"Error:\", response.status_code, response.text)\n"
   ]
  },
  {
   "cell_type": "code",
   "execution_count": null,
   "id": "217d2338-595b-4010-abfe-0996bbf6e329",
   "metadata": {},
   "outputs": [],
   "source": [
    "#tested in browser console with:\n",
    "fetch(\"http://127.0.0.1:9696/predict\", {\n",
    "    method: \"POST\",\n",
    "    headers: {\n",
    "        \"Content-Type\": \"application/json\"\n",
    "    },\n",
    "    body: JSON.stringify({\n",
    "        \"job\": \"management\",\n",
    "        \"duration\": 400,\n",
    "        \"poutcome\": \"success\"\n",
    "    })\n",
    "})\n",
    ".then(response => response.json())\n",
    ".then(data => console.log(\"Subscription Probability:\", data.subscription_probability))\n",
    ".catch(error => console.error(\"Error:\", error));"
   ]
  },
  {
   "cell_type": "raw",
   "id": "6cb9abc1-8a49-47b8-b7e2-d498289e5db6",
   "metadata": {},
   "source": [
    "Answer - 0.7590966516879658"
   ]
  }
 ],
 "metadata": {
  "kernelspec": {
   "display_name": "Python 3 (ipykernel)",
   "language": "python",
   "name": "python3"
  },
  "language_info": {
   "codemirror_mode": {
    "name": "ipython",
    "version": 3
   },
   "file_extension": ".py",
   "mimetype": "text/x-python",
   "name": "python",
   "nbconvert_exporter": "python",
   "pygments_lexer": "ipython3",
   "version": "3.12.4"
  }
 },
 "nbformat": 4,
 "nbformat_minor": 5
}
