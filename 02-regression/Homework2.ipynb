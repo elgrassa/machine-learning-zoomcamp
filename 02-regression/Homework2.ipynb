{
 "cells": [
  {
   "cell_type": "markdown",
   "id": "bf97f0f5-5b72-457a-8599-3e155793b869",
   "metadata": {},
   "source": [
    "Import pandas and numpy"
   ]
  },
  {
   "cell_type": "code",
   "execution_count": 39,
   "id": "ecebd545-13d2-482d-9cda-c5e482b416eb",
   "metadata": {},
   "outputs": [],
   "source": [
    "import pandas as pd\n",
    "import numpy as np\n",
    "from sklearn.model_selection import train_test_split\n",
    "from sklearn.linear_model import LinearRegression\n",
    "from sklearn.metrics import mean_squared_error"
   ]
  },
  {
   "cell_type": "markdown",
   "id": "416b2960-383e-490a-b06f-c7035b7e66f6",
   "metadata": {},
   "source": [
    "Question1: Print pandas version in Anaconda local setup"
   ]
  },
  {
   "cell_type": "code",
   "execution_count": 41,
   "id": "0c995a43-03df-4c6e-a377-7875e39e231a",
   "metadata": {},
   "outputs": [
    {
     "data": {
      "text/plain": [
       "'2.2.2'"
      ]
     },
     "execution_count": 41,
     "metadata": {},
     "output_type": "execute_result"
    }
   ],
   "source": [
    "pd.__version__"
   ]
  },
  {
   "cell_type": "markdown",
   "id": "9cfb4c55-918f-47c7-8872-e8945b017a4e",
   "metadata": {},
   "source": [
    "Import dataset from url"
   ]
  },
  {
   "cell_type": "code",
   "execution_count": 43,
   "id": "b61409bd-3e83-4afd-93ed-ced9acfc0c2a",
   "metadata": {},
   "outputs": [],
   "source": [
    "url = 'https://raw.githubusercontent.com/alexeygrigorev/datasets/master/laptops.csv'\n",
    "laptop_data = pd.read_csv(url)"
   ]
  },
  {
   "cell_type": "markdown",
   "id": "0168d8b9-fa0f-4c27-a7a3-4c5da4574965",
   "metadata": {},
   "source": [
    "# Question 1: How many records in the dataset?"
   ]
  },
  {
   "cell_type": "code",
   "execution_count": 45,
   "id": "5d4acd5a-a7ae-490e-aff9-d6c3d0139cb4",
   "metadata": {},
   "outputs": [],
   "source": [
    "laptop_data.columns = laptop_data.columns.str.lower().str.replace(' ', '_')"
   ]
  },
  {
   "cell_type": "code",
   "execution_count": 47,
   "id": "b62ffd0a-4cab-4d17-9976-7673f5e8a902",
   "metadata": {},
   "outputs": [],
   "source": [
    "laptop_data_prepared = laptop_data[['ram', 'storage', 'screen', 'final_price']]"
   ]
  },
  {
   "cell_type": "code",
   "execution_count": 31,
   "id": "a5849321-03ea-423a-b7ac-c45f84d2fe04",
   "metadata": {},
   "outputs": [
    {
     "data": {
      "text/html": [
       "<div>\n",
       "<style scoped>\n",
       "    .dataframe tbody tr th:only-of-type {\n",
       "        vertical-align: middle;\n",
       "    }\n",
       "\n",
       "    .dataframe tbody tr th {\n",
       "        vertical-align: top;\n",
       "    }\n",
       "\n",
       "    .dataframe thead th {\n",
       "        text-align: right;\n",
       "    }\n",
       "</style>\n",
       "<table border=\"1\" class=\"dataframe\">\n",
       "  <thead>\n",
       "    <tr style=\"text-align: right;\">\n",
       "      <th></th>\n",
       "      <th>ram</th>\n",
       "      <th>storage</th>\n",
       "      <th>screen</th>\n",
       "      <th>final_price</th>\n",
       "    </tr>\n",
       "  </thead>\n",
       "  <tbody>\n",
       "    <tr>\n",
       "      <th>0</th>\n",
       "      <td>8</td>\n",
       "      <td>512</td>\n",
       "      <td>15.6</td>\n",
       "      <td>1009.00</td>\n",
       "    </tr>\n",
       "    <tr>\n",
       "      <th>1</th>\n",
       "      <td>8</td>\n",
       "      <td>256</td>\n",
       "      <td>15.6</td>\n",
       "      <td>299.00</td>\n",
       "    </tr>\n",
       "    <tr>\n",
       "      <th>2</th>\n",
       "      <td>8</td>\n",
       "      <td>256</td>\n",
       "      <td>15.6</td>\n",
       "      <td>789.00</td>\n",
       "    </tr>\n",
       "    <tr>\n",
       "      <th>3</th>\n",
       "      <td>16</td>\n",
       "      <td>1000</td>\n",
       "      <td>15.6</td>\n",
       "      <td>1199.00</td>\n",
       "    </tr>\n",
       "    <tr>\n",
       "      <th>4</th>\n",
       "      <td>16</td>\n",
       "      <td>512</td>\n",
       "      <td>15.6</td>\n",
       "      <td>669.01</td>\n",
       "    </tr>\n",
       "  </tbody>\n",
       "</table>\n",
       "</div>"
      ],
      "text/plain": [
       "   ram  storage  screen  final_price\n",
       "0    8      512    15.6      1009.00\n",
       "1    8      256    15.6       299.00\n",
       "2    8      256    15.6       789.00\n",
       "3   16     1000    15.6      1199.00\n",
       "4   16      512    15.6       669.01"
      ]
     },
     "execution_count": 31,
     "metadata": {},
     "output_type": "execute_result"
    }
   ],
   "source": [
    "# Display the first few rows of the prepared dataset\n",
    "laptop_data_prepared.head()"
   ]
  },
  {
   "cell_type": "code",
   "execution_count": 49,
   "id": "eb0ccd8e-91e2-47b7-820d-3dd8dc620106",
   "metadata": {},
   "outputs": [
    {
     "data": {
      "text/plain": [
       "ram            0\n",
       "storage        0\n",
       "screen         4\n",
       "final_price    0\n",
       "dtype: int64"
      ]
     },
     "execution_count": 49,
     "metadata": {},
     "output_type": "execute_result"
    }
   ],
   "source": [
    "# Check for missing values in the prepared dataset\n",
    "missing_values_prepared = laptop_data_prepared.isnull().sum()\n",
    "missing_values_prepared"
   ]
  },
  {
   "cell_type": "markdown",
   "id": "2cb01a9c-9a68-42c1-964b-f6f8080ad539",
   "metadata": {},
   "source": [
    "Answer1 - screen column has missing values"
   ]
  },
  {
   "cell_type": "code",
   "execution_count": null,
   "id": "5693489a-3361-43be-99fb-aa46b1af8e42",
   "metadata": {},
   "outputs": [],
   "source": [
    "# Question 2:  Median of 'ram'"
   ]
  },
  {
   "cell_type": "code",
   "execution_count": 53,
   "id": "2c3806cf-12d0-42d9-8e97-f42ad6353ce1",
   "metadata": {},
   "outputs": [
    {
     "data": {
      "text/plain": [
       "16.0"
      ]
     },
     "execution_count": 53,
     "metadata": {},
     "output_type": "execute_result"
    }
   ],
   "source": [
    "ram_median = laptop_data_prepared['ram'].median()\n",
    "ram_median"
   ]
  },
  {
   "cell_type": "code",
   "execution_count": null,
   "id": "36e984c5-33f3-4a85-ad9f-d34549043558",
   "metadata": {},
   "outputs": [],
   "source": [
    "# Question 3: Which option gives better RMSE"
   ]
  },
  {
   "cell_type": "code",
   "execution_count": 55,
   "id": "5f6d6161-cf22-4aa3-bbb7-43537b76da07",
   "metadata": {},
   "outputs": [
    {
     "name": "stdout",
     "output_type": "stream",
     "text": [
      "RMSE with missing values filled with 0: 609.42\n",
      "RMSE with missing values filled with mean: 610.02\n",
      "Filling missing values with 0 gives a better RMSE.\n"
     ]
    }
   ],
   "source": [
    "# Function to calculate RMSE\n",
    "def rmse(y_true, y_pred):\n",
    "    return np.sqrt(mean_squared_error(y_true, y_pred))\n",
    "\n",
    "# Split the dataset into train (60%) and validation (20%), and test (20%)\n",
    "train_data, temp_data = train_test_split(laptop_data_prepared, test_size=0.4, random_state=42)\n",
    "val_data, test_data = train_test_split(temp_data, test_size=0.5, random_state=42)\n",
    "\n",
    "# Option 1: Fill missing values with 0\n",
    "train_data_zero = train_data.copy()\n",
    "train_data_zero['screen'] = train_data_zero['screen'].fillna(0)\n",
    "\n",
    "val_data_zero = val_data.copy()\n",
    "val_data_zero['screen'] = val_data_zero['screen'].fillna(0)\n",
    "\n",
    "# Prepare feature matrix and target vector for zero-filled data\n",
    "X_train_zero = train_data_zero[['ram', 'storage', 'screen']]\n",
    "y_train_zero = train_data_zero['final_price']\n",
    "X_val_zero = val_data_zero[['ram', 'storage', 'screen']]\n",
    "y_val_zero = val_data_zero['final_price']\n",
    "\n",
    "# Train linear regression model on zero-filled data\n",
    "model_zero = LinearRegression()\n",
    "model_zero.fit(X_train_zero, y_train_zero)\n",
    "\n",
    "# Predict on validation set for zero-filled model\n",
    "y_pred_zero = model_zero.predict(X_val_zero)\n",
    "\n",
    "# Calculate RMSE for zero-filled model\n",
    "rmse_zero = rmse(y_val_zero, y_pred_zero)\n",
    "\n",
    "# Option 2: Fill missing values with the mean (computed from training data)\n",
    "screen_mean = train_data['screen'].mean()\n",
    "\n",
    "train_data_mean = train_data.copy()\n",
    "train_data_mean['screen'] = train_data_mean['screen'].fillna(screen_mean)\n",
    "\n",
    "val_data_mean = val_data.copy()\n",
    "val_data_mean['screen'] = val_data_mean['screen'].fillna(screen_mean)\n",
    "\n",
    "# Prepare feature matrix and target vector for mean-filled data\n",
    "X_train_mean = train_data_mean[['ram', 'storage', 'screen']]\n",
    "y_train_mean = train_data_mean['final_price']\n",
    "X_val_mean = val_data_mean[['ram', 'storage', 'screen']]\n",
    "y_val_mean = val_data_mean['final_price']\n",
    "\n",
    "# Train linear regression model on mean-filled data\n",
    "model_mean = LinearRegression()\n",
    "model_mean.fit(X_train_mean, y_train_mean)\n",
    "\n",
    "# Predict on validation set for mean-filled model\n",
    "y_pred_mean = model_mean.predict(X_val_mean)\n",
    "\n",
    "# Calculate RMSE for mean-filled model\n",
    "rmse_mean = rmse(y_val_mean, y_pred_mean)\n",
    "\n",
    "# Output the results\n",
    "print(f\"RMSE with missing values filled with 0: {round(rmse_zero, 2)}\")\n",
    "print(f\"RMSE with missing values filled with mean: {round(rmse_mean, 2)}\")\n",
    "\n",
    "# Compare which option gives better RMSE\n",
    "if rmse_zero < rmse_mean:\n",
    "    print(\"Filling missing values with 0 gives a better RMSE.\")\n",
    "elif rmse_mean < rmse_zero:\n",
    "    print(\"Filling missing values with mean gives a better RMSE.\")\n",
    "else:\n",
    "    print(\"Both options give equally good RMSE.\")"
   ]
  },
  {
   "cell_type": "markdown",
   "id": "21aaba30-e0e3-41ea-bd5e-43ac0416c7e8",
   "metadata": {},
   "source": [
    "# Question 4: what is best RMSE, smallest r if multiple?"
   ]
  },
  {
   "cell_type": "code",
   "execution_count": 57,
   "id": "cd1b9834-d5be-44e7-9264-cda9398b8a51",
   "metadata": {},
   "outputs": [
    {
     "name": "stdout",
     "output_type": "stream",
     "text": [
      "RMSE values for different r:\n",
      "r = 0: RMSE = 609.42\n",
      "r = 0.01: RMSE = 609.42\n",
      "r = 0.1: RMSE = 609.42\n",
      "r = 1: RMSE = 609.42\n",
      "r = 5: RMSE = 609.42\n",
      "r = 10: RMSE = 609.43\n",
      "r = 100: RMSE = 609.53\n",
      "\n",
      "Best RMSE is obtained with r = 0 and RMSE = 609.42\n"
     ]
    }
   ],
   "source": [
    "from sklearn.linear_model import Ridge\n",
    "\n",
    "# Regularization values to try\n",
    "r_values = [0, 0.01, 0.1, 1, 5, 10, 100]\n",
    "\n",
    "# Fill missing values with 0 (as per the instructions)\n",
    "train_data_zero = train_data.copy()\n",
    "train_data_zero['screen'] = train_data_zero['screen'].fillna(0)\n",
    "\n",
    "val_data_zero = val_data.copy()\n",
    "val_data_zero['screen'] = val_data_zero['screen'].fillna(0)\n",
    "\n",
    "# Prepare feature matrix and target vector for zero-filled data\n",
    "X_train_zero = train_data_zero[['ram', 'storage', 'screen']]\n",
    "y_train_zero = train_data_zero['final_price']\n",
    "X_val_zero = val_data_zero[['ram', 'storage', 'screen']]\n",
    "y_val_zero = val_data_zero['final_price']\n",
    "\n",
    "# Dictionary to store RMSE values for different r\n",
    "rmse_values = {}\n",
    "\n",
    "# Train models with different regularization strengths (r)\n",
    "for r in r_values:\n",
    "    # Train Ridge regression model with regularization strength r\n",
    "    model_ridge = Ridge(alpha=r)\n",
    "    model_ridge.fit(X_train_zero, y_train_zero)\n",
    "    \n",
    "    # Predict on validation set\n",
    "    y_pred_ridge = model_ridge.predict(X_val_zero)\n",
    "    \n",
    "    # Calculate RMSE and store it\n",
    "    rmse_ridge = rmse(y_val_zero, y_pred_ridge)\n",
    "    rmse_values[r] = round(rmse_ridge, 2)\n",
    "\n",
    "# Find the r with the smallest RMSE\n",
    "best_r = min(rmse_values, key=rmse_values.get)\n",
    "\n",
    "# Output the RMSE values for each r and the best one\n",
    "print(\"RMSE values for different r:\")\n",
    "for r, rmse_value in rmse_values.items():\n",
    "    print(f\"r = {r}: RMSE = {rmse_value}\")\n",
    "\n",
    "print(f\"\\nBest RMSE is obtained with r = {best_r} and RMSE = {rmse_values[best_r]}\")\n"
   ]
  },
  {
   "cell_type": "markdown",
   "id": "301ffd7a-9cec-409c-a8f2-cba92404e88a",
   "metadata": {},
   "source": [
    "Answer - r=0"
   ]
  },
  {
   "cell_type": "code",
   "execution_count": null,
   "id": "46b9a349-ae70-4b48-9fb1-d2375bd28d3c",
   "metadata": {},
   "outputs": [],
   "source": [
    "# Question 5: rmse on test dataset"
   ]
  },
  {
   "cell_type": "code",
   "execution_count": 71,
   "id": "550d3d02-d8f3-4a91-8b6a-2818e5e86c0a",
   "metadata": {},
   "outputs": [
    {
     "name": "stdout",
     "output_type": "stream",
     "text": [
      "0 565.4520868770983\n",
      "1 636.7985423056717\n",
      "2 588.9558697907967\n",
      "3 597.8148920012524\n",
      "4 571.9627915111035\n",
      "5 573.2383256618941\n",
      "6 647.3438328407256\n",
      "7 550.4398184485931\n",
      "8 587.3335036169915\n",
      "9 576.1017929433117\n",
      "RMSE scores for different seeds: [565.4520868770983, 636.7985423056717, 588.9558697907967, 597.8148920012524, 571.9627915111035, 573.2383256618941, 647.3438328407256, 550.4398184485931, 587.3335036169915, 576.1017929433117]\n",
      "Standard deviation of RMSE scores: 29.176\n"
     ]
    }
   ],
   "source": [
    "# Function to calculate RMSE\n",
    "def rmse(y_true, y_pred):\n",
    "    return np.sqrt(mean_squared_error(y_true, y_pred))\n",
    "\n",
    "# Function to prepare feature matrix X by filling missing values with the provided value\n",
    "def prepare_X(df, fillna_value):\n",
    "    df = df.fillna(fillna_value)\n",
    "    X = df.values\n",
    "    return X\n",
    "\n",
    "# List to store RMSE scores for each seed\n",
    "rmse_scores = []\n",
    "\n",
    "# Iterate over the seeds [0, 1, 2, 3, 4, 5, 6, 7, 8, 9]\n",
    "for seed in range(10):\n",
    "    # Shuffle and split the dataset into 60% train, 20% validation, and 20% test\n",
    "    n = len(laptop_data_prepared)\n",
    "    n_val = int(0.2 * n)\n",
    "    n_test = int(0.2 * n)\n",
    "    n_train = n - (n_val + n_test)\n",
    "    \n",
    "    idx = np.arange(n)\n",
    "    np.random.seed(seed)\n",
    "    np.random.shuffle(idx)\n",
    "    \n",
    "    df_shuffled = laptop_data_prepared.iloc[idx]\n",
    "    \n",
    "    df_train = df_shuffled.iloc[:n_train].copy()\n",
    "    df_val = df_shuffled.iloc[n_train:n_train + n_val].copy()\n",
    "    df_test = df_shuffled.iloc[n_train + n_val:].copy()\n",
    "    \n",
    "    # Prepare the target vectors\n",
    "    y_train = df_train['final_price'].values\n",
    "    y_val = df_val['final_price'].values\n",
    "    y_test = df_test['final_price'].values\n",
    "\n",
    "    # Remove the target column from the datasets\n",
    "    del df_train['final_price']\n",
    "    del df_val['final_price']\n",
    "    del df_test['final_price']\n",
    "    \n",
    "    # Prepare the feature matrices by filling missing values with 0\n",
    "    X_train = prepare_X(df_train, fillna_value=0)\n",
    "    X_val = prepare_X(df_val, fillna_value=0)\n",
    "    \n",
    "    # Train the linear regression model without regularization\n",
    "    model = LinearRegression()\n",
    "    model.fit(X_train, y_train)\n",
    "    \n",
    "    # Make predictions on the validation set\n",
    "    y_pred = model.predict(X_val)\n",
    "    \n",
    "    # Calculate the RMSE for the current seed and append it to the list\n",
    "    score = rmse(y_val, y_pred)\n",
    "    rmse_scores.append(score)\n",
    "    \n",
    "    print(seed, score)\n",
    "\n",
    "# Calculate the standard deviation of RMSE scores and round to 3 decimal places\n",
    "rmse_std = np.std(rmse_scores)\n",
    "rmse_std_rounded = round(rmse_std, 3)\n",
    "\n",
    "# Output the RMSE scores and the standard deviation\n",
    "print(f\"RMSE scores for different seeds: {rmse_scores}\")\n",
    "print(f\"Standard deviation of RMSE scores: {rmse_std_rounded}\")\n"
   ]
  },
  {
   "cell_type": "markdown",
   "id": "40104e36-5aa2-4e0d-9298-abcf74a33274",
   "metadata": {},
   "source": [
    "Question 6 : whats the rmse on test dataset"
   ]
  },
  {
   "cell_type": "code",
   "execution_count": 73,
   "id": "95e0c097-f604-4f7c-80e9-de293d04d17b",
   "metadata": {},
   "outputs": [
    {
     "name": "stdout",
     "output_type": "stream",
     "text": [
      "RMSE on the test dataset: 608.61\n"
     ]
    }
   ],
   "source": [
    "import numpy as np\n",
    "import pandas as pd\n",
    "from sklearn.model_selection import train_test_split\n",
    "from sklearn.linear_model import Ridge\n",
    "from sklearn.metrics import mean_squared_error\n",
    "\n",
    "# Function to calculate RMSE\n",
    "def rmse(y_true, y_pred):\n",
    "    return np.sqrt(mean_squared_error(y_true, y_pred))\n",
    "\n",
    "# Function to prepare feature matrix X by filling missing values with the provided value\n",
    "def prepare_X(df, fillna_value):\n",
    "    df = df.fillna(fillna_value)\n",
    "    X = df.values\n",
    "    return X\n",
    "\n",
    "# Use seed 9 to split the dataset into train, validation, and test sets\n",
    "n = len(laptop_data_prepared)\n",
    "n_val = int(0.2 * n)\n",
    "n_test = int(0.2 * n)\n",
    "n_train = n - (n_val + n_test)\n",
    "\n",
    "idx = np.arange(n)\n",
    "np.random.seed(9)\n",
    "np.random.shuffle(idx)\n",
    "\n",
    "df_shuffled = laptop_data_prepared.iloc[idx]\n",
    "\n",
    "# Split the data\n",
    "df_train = df_shuffled.iloc[:n_train].copy()\n",
    "df_val = df_shuffled.iloc[n_train:n_train + n_val].copy()\n",
    "df_test = df_shuffled.iloc[n_train + n_val:].copy()\n",
    "\n",
    "# Prepare the target vectors\n",
    "y_train = df_train['final_price'].values\n",
    "y_val = df_val['final_price'].values\n",
    "y_test = df_test['final_price'].values\n",
    "\n",
    "# Remove the target column from the datasets\n",
    "del df_train['final_price']\n",
    "del df_val['final_price']\n",
    "del df_test['final_price']\n",
    "\n",
    "# Combine train and validation datasets\n",
    "df_full_train = pd.concat([df_train, df_val]).reset_index(drop=True)\n",
    "y_full_train = np.concatenate([y_train, y_val])\n",
    "\n",
    "# Prepare feature matrix for the combined train/validation data\n",
    "X_full_train = prepare_X(df_full_train, fillna_value=0)\n",
    "\n",
    "# Train Ridge regression model with r=0.001 (regularization)\n",
    "model = Ridge(alpha=0.001)\n",
    "model.fit(X_full_train, y_full_train)\n",
    "\n",
    "# Prepare the feature matrix for the test dataset\n",
    "X_test = prepare_X(df_test, fillna_value=0)\n",
    "\n",
    "# Make predictions on the test dataset\n",
    "y_pred_test = model.predict(X_test)\n",
    "\n",
    "# Calculate RMSE on the test dataset\n",
    "test_rmse = rmse(y_test, y_pred_test)\n",
    "\n",
    "# Output the RMSE\n",
    "print(f\"RMSE on the test dataset: {round(test_rmse, 3)}\")\n"
   ]
  },
  {
   "cell_type": "code",
   "execution_count": null,
   "id": "59147c35-5eab-4400-8156-1ae20807cbdf",
   "metadata": {},
   "outputs": [],
   "source": []
  }
 ],
 "metadata": {
  "kernelspec": {
   "display_name": "Python 3 (ipykernel)",
   "language": "python",
   "name": "python3"
  },
  "language_info": {
   "codemirror_mode": {
    "name": "ipython",
    "version": 3
   },
   "file_extension": ".py",
   "mimetype": "text/x-python",
   "name": "python",
   "nbconvert_exporter": "python",
   "pygments_lexer": "ipython3",
   "version": "3.12.4"
  }
 },
 "nbformat": 4,
 "nbformat_minor": 5
}
